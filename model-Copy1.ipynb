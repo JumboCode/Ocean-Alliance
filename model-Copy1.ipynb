{
 "cells": [
  {
   "cell_type": "code",
   "execution_count": 99,
   "metadata": {},
   "outputs": [],
   "source": [
    "import os\n",
    "import numpy as np\n",
    "import pandas as pd\n",
    "\n",
    "import sklearn.linear_model\n",
    "import sklearn.tree\n",
    "import sklearn.metrics\n",
    "import sklearn.neighbors\n",
    "\n",
    "from matplotlib import pyplot as plt\n",
    "from pprint import pprint \n",
    "#import seaborn as sns\n",
    "\n",
    "VERBOSE = False"
   ]
  },
  {
   "cell_type": "code",
   "execution_count": 100,
   "metadata": {},
   "outputs": [],
   "source": [
    "# determine whales to include based on what dataCSVs exist that dont exist\n",
    "# extracts the whale name name and video index (eg, Daffodil_1) based on the labeled videos that exist\n",
    "\n",
    "labeled_path = '../training_data/labeled_data/'\n",
    "fv_path = '../training_data/fv_norm_CSVs/'\n",
    "whale_names = list(os.walk(labeled_path))[0][2]\n",
    "whale_names = [n[:-4] for n in whale_names]\n",
    "\n",
    "CSV_names = [fv_path + n + '_images_fv_norm.csv' for n in whale_names]\n",
    "labeled_names = [labeled_path + n + '.csv' for n in whale_names]\n",
    "\n",
    "# verifies all corrosponding feature vector files exist\n",
    "existing = [fv_path + m for m in list(os.walk(fv_path))[0][2]]\n",
    "for n in CSV_names:\n",
    "    if n not in existing:\n",
    "        print(\"ALERT: file \", n, \" not found\")\n"
   ]
  },
  {
   "cell_type": "code",
   "execution_count": 101,
   "metadata": {},
   "outputs": [],
   "source": [
    "frame_path = '../training_data/labeled_data/frames/' #whale_video/"
   ]
  },
  {
   "cell_type": "code",
   "execution_count": 102,
   "metadata": {},
   "outputs": [
    {
     "name": "stdout",
     "output_type": "stream",
     "text": [
      "['Daffodil_1', 'Daffodil_2', 'Fan_1', 'Fan_2', 'Gom_1', 'Grommet_1']\n",
      "['../training_data/labeled_data/Daffodil_1.csv',\n",
      " '../training_data/labeled_data/Daffodil_2.csv',\n",
      " '../training_data/labeled_data/Fan_1.csv',\n",
      " '../training_data/labeled_data/Fan_2.csv',\n",
      " '../training_data/labeled_data/Gom_1.csv',\n",
      " '../training_data/labeled_data/Grommet_1.csv']\n",
      "['../training_data/fv_norm_CSVs/Daffodil_1_images_fv_norm.csv',\n",
      " '../training_data/fv_norm_CSVs/Daffodil_2_images_fv_norm.csv',\n",
      " '../training_data/fv_norm_CSVs/Fan_1_images_fv_norm.csv',\n",
      " '../training_data/fv_norm_CSVs/Fan_2_images_fv_norm.csv',\n",
      " '../training_data/fv_norm_CSVs/Gom_1_images_fv_norm.csv',\n",
      " '../training_data/fv_norm_CSVs/Grommet_1_images_fv_norm.csv']\n"
     ]
    }
   ],
   "source": [
    "pprint(whale_names)\n",
    "pprint(labeled_names)\n",
    "pprint(CSV_names)\n",
    "if VERBOSE: print(len(whale_names), len(labeled_names), len(CSV_names))\n",
    "if not (len(whale_names) == len(labeled_names) == len(CSV_names)):\n",
    "    print(\"ALERT: some error in files was detected\")"
   ]
  },
  {
   "cell_type": "code",
   "execution_count": 103,
   "metadata": {},
   "outputs": [
    {
     "name": "stdout",
     "output_type": "stream",
     "text": [
      "Daffodil_1\n",
      "Daffodil_2\n",
      "Fan_1\n",
      "Fan_2\n",
      "Gom_1\n",
      "Grommet_1\n"
     ]
    }
   ],
   "source": [
    "x_data = []\n",
    "y_data = []\n",
    "for labeled_name, CSV_name, w in zip(labeled_names, CSV_names, whale_names):  \n",
    "    xd = pd.read_csv(CSV_name, header = None)\n",
    "    yd = pd.read_csv(labeled_name, header = None)\n",
    "    print(w)\n",
    "    x_data.append(xd)\n",
    "    y_data.append(yd)\n",
    "    "
   ]
  },
  {
   "cell_type": "code",
   "execution_count": 104,
   "metadata": {},
   "outputs": [],
   "source": [
    "if VERBOSE:\n",
    "    print(y_data[0:2])\n",
    "    print(x_data[0:2])"
   ]
  },
  {
   "cell_type": "code",
   "execution_count": 105,
   "metadata": {},
   "outputs": [],
   "source": [
    "#y_data is an array of dataframes\n",
    "#change this function to effect what the model trains to recognize\n",
    "def process_y(arr):\n",
    "    arr = [df.replace(to_replace='.*O.*', regex=True, value=1) for df in arr]\n",
    "    arr = [df.replace(to_replace='.*', regex=True, value=0) for df in arr]\n",
    "    return(arr)\n",
    "        \n",
    "def y_trim(arr):\n",
    "    imgs = [(df. iloc[:, 0]).tolist() for df in arr]\n",
    "    arr = [df.drop(axis='columns', labels=0) for df in arr]\n",
    "    return(imgs, arr)\n",
    "\n",
    "#y_data = [process_y(arr) for arr in y_data]\n",
    "imgs, y_data = y_trim(y_data)\n",
    "y_data = process_y(y_data)"
   ]
  },
  {
   "cell_type": "code",
   "execution_count": 106,
   "metadata": {},
   "outputs": [],
   "source": [
    "if VERBOSE:\n",
    "    print(y_data[0:2])\n",
    "    print(y_data[0].max())\n",
    "    print(imgs[0])"
   ]
  },
  {
   "cell_type": "code",
   "execution_count": 107,
   "metadata": {},
   "outputs": [],
   "source": [
    "def x_trim(arr):\n",
    "    arr = [df.drop(axis='columns', labels=0) for df in arr]\n",
    "    return(arr)\n",
    "\n",
    "x_data = x_trim(x_data)"
   ]
  },
  {
   "cell_type": "code",
   "execution_count": 108,
   "metadata": {},
   "outputs": [],
   "source": [
    "if VERBOSE: print(x_data[0:2])"
   ]
  },
  {
   "cell_type": "code",
   "execution_count": 115,
   "metadata": {},
   "outputs": [
    {
     "name": "stdout",
     "output_type": "stream",
     "text": [
      "for heldout video: Daffodil_1\n",
      "0.9679144385026738\n",
      "(340, 6) (340, 1)\n",
      "weight parameters:  [[-1.03178834 -0.90161759 -0.07092122  0.17553344  0.38228788  0.03208299]]\n",
      "[([0.9656514323059912, 0.03434856769400882], '../whale_videos/Daffodil_1_images/Daffodil_1_00001000.jpg'), ([0.9109916623569299, 0.08900833764307013], '../whale_videos/Daffodil_1_images/Daffodil_1_00002000.jpg'), ([0.9155644344668653, 0.08443556553313468], '../whale_videos/Daffodil_1_images/Daffodil_1_00003000.jpg'), ([0.9647970500697611, 0.03520294993023882], '../whale_videos/Daffodil_1_images/Daffodil_1_00004000.jpg'), ([0.9580346856804264, 0.04196531431957357], '../whale_videos/Daffodil_1_images/Daffodil_1_00005000.jpg'), ([0.9230749650328716, 0.07692503496712842], '../whale_videos/Daffodil_1_images/Daffodil_1_00006000.jpg'), ([0.9280716470299057, 0.07192835297009426], '../whale_videos/Daffodil_1_images/Daffodil_1_00007000.jpg'), ([0.9207371607159566, 0.07926283928404344], '../whale_videos/Daffodil_1_images/Daffodil_1_00008000.jpg'), ([0.9696842435600501, 0.030315756439949916], '../whale_videos/Daffodil_1_images/Daffodil_1_00009000.jpg'), ([0.9708178940778536, 0.029182105922146474], '../whale_videos/Daffodil_1_images/Daffodil_1_00010000.jpg'), ([0.9683100582023034, 0.031689941797696616], '../whale_videos/Daffodil_1_images/Daffodil_1_00011000.jpg'), ([0.9285709399712864, 0.07142906002871363], '../whale_videos/Daffodil_1_images/Daffodil_1_00012000.jpg'), ([0.9183566438591833, 0.0816433561408168], '../whale_videos/Daffodil_1_images/Daffodil_1_00013000.jpg'), ([0.9648200271122179, 0.03517997288778207], '../whale_videos/Daffodil_1_images/Daffodil_1_00014000.jpg'), ([0.9614260483982189, 0.03857395160178116], '../whale_videos/Daffodil_1_images/Daffodil_1_00015000.jpg'), ([0.9754250520595005, 0.024574947940499487], '../whale_videos/Daffodil_1_images/Daffodil_1_00016000.jpg'), ([0.970228288222323, 0.029771711777677054], '../whale_videos/Daffodil_1_images/Daffodil_1_00017000.jpg'), ([0.9752978723708765, 0.024702127629123497], '../whale_videos/Daffodil_1_images/Daffodil_1_00018000.jpg'), ([0.9688838534614108, 0.031116146538589233], '../whale_videos/Daffodil_1_images/Daffodil_1_00019000.jpg'), ([0.8959233151339745, 0.10407668486602552], '../whale_videos/Daffodil_1_images/Daffodil_1_00020000.jpg'), ([0.907369159417859, 0.092630840582141], '../whale_videos/Daffodil_1_images/Daffodil_1_00021000.jpg'), ([0.9116992035797682, 0.08830079642023181], '../whale_videos/Daffodil_1_images/Daffodil_1_00022000.jpg'), ([0.9398861837476461, 0.06011381625235391], '../whale_videos/Daffodil_1_images/Daffodil_1_00023000.jpg'), ([0.960684150701278, 0.03931584929872203], '../whale_videos/Daffodil_1_images/Daffodil_1_00024000.jpg'), ([0.8967223125666772, 0.10327768743332277], '../whale_videos/Daffodil_1_images/Daffodil_1_00025000.jpg'), ([0.901016747781695, 0.09898325221830498], '../whale_videos/Daffodil_1_images/Daffodil_1_00026000.jpg'), ([0.8877575390590138, 0.1122424609409862], '../whale_videos/Daffodil_1_images/Daffodil_1_00027000.jpg'), ([0.8861519883338915, 0.11384801166610847], '../whale_videos/Daffodil_1_images/Daffodil_1_00028000.jpg'), ([0.9650837531969229, 0.034916246803077096], '../whale_videos/Daffodil_1_images/Daffodil_1_00029000.jpg'), ([0.9813431424550297, 0.01865685754497031], '../whale_videos/Daffodil_1_images/Daffodil_1_00030000.jpg'), ([0.9827440945241862, 0.017255905475813776], '../whale_videos/Daffodil_1_images/Daffodil_1_00031000.jpg'), ([0.9799800604947125, 0.02001993950528745], '../whale_videos/Daffodil_1_images/Daffodil_1_00032000.jpg'), ([0.9820808626657235, 0.017919137334276494], '../whale_videos/Daffodil_1_images/Daffodil_1_00033000.jpg'), ([0.9814404539094352, 0.01855954609056478], '../whale_videos/Daffodil_1_images/Daffodil_1_00034000.jpg'), ([0.9823950972394745, 0.017604902760525475], '../whale_videos/Daffodil_1_images/Daffodil_1_00035000.jpg'), ([0.979832145652249, 0.020167854347751025], '../whale_videos/Daffodil_1_images/Daffodil_1_00036000.jpg'), ([0.9802015216068133, 0.019798478393186675], '../whale_videos/Daffodil_1_images/Daffodil_1_00037000.jpg'), ([0.9767509963978482, 0.02324900360215181], '../whale_videos/Daffodil_1_images/Daffodil_1_00038000.jpg'), ([0.983784062219613, 0.01621593778038703], '../whale_videos/Daffodil_1_images/Daffodil_1_00039000.jpg'), ([0.9825920252616753, 0.01740797473832463], '../whale_videos/Daffodil_1_images/Daffodil_1_00040000.jpg'), ([0.9726343630216606, 0.02736563697833933], '../whale_videos/Daffodil_1_images/Daffodil_1_00041000.jpg'), ([0.9745909428253478, 0.025409057174652205], '../whale_videos/Daffodil_1_images/Daffodil_1_00042000.jpg'), ([0.9769352769878292, 0.02306472301217074], '../whale_videos/Daffodil_1_images/Daffodil_1_00043000.jpg'), ([0.9774961712840462, 0.02250382871595376], '../whale_videos/Daffodil_1_images/Daffodil_1_00044000.jpg'), ([0.977727818235018, 0.022272181764982066], '../whale_videos/Daffodil_1_images/Daffodil_1_00045000.jpg'), ([0.9668920963226223, 0.03310790367737775], '../whale_videos/Daffodil_1_images/Daffodil_1_00046000.jpg'), ([0.9232625006851944, 0.07673749931480557], '../whale_videos/Daffodil_1_images/Daffodil_1_00047000.jpg'), ([0.9286401290926598, 0.07135987090734025], '../whale_videos/Daffodil_1_images/Daffodil_1_00048000.jpg'), ([0.940752977569975, 0.059247022430025026], '../whale_videos/Daffodil_1_images/Daffodil_1_00049000.jpg'), ([0.9667793294404483, 0.03322067055955165], '../whale_videos/Daffodil_1_images/Daffodil_1_00050000.jpg'), ([0.9767907750666323, 0.02320922493336772], '../whale_videos/Daffodil_1_images/Daffodil_1_00051000.jpg'), ([0.9750900475853549, 0.024909952414645102], '../whale_videos/Daffodil_1_images/Daffodil_1_00052000.jpg'), ([0.9602970605763854, 0.0397029394236146], '../whale_videos/Daffodil_1_images/Daffodil_1_00053000.jpg'), ([0.9781396434030257, 0.02186035659697428], '../whale_videos/Daffodil_1_images/Daffodil_1_00054000.jpg'), ([0.9756784320671099, 0.024321567932890132], '../whale_videos/Daffodil_1_images/Daffodil_1_00055000.jpg'), ([0.9726731839599772, 0.027326816040022794], '../whale_videos/Daffodil_1_images/Daffodil_1_00056000.jpg'), ([0.9743231069912417, 0.025676893008758264], '../whale_videos/Daffodil_1_images/Daffodil_1_00057000.jpg'), ([0.9765333217399711, 0.02346667826002895], '../whale_videos/Daffodil_1_images/Daffodil_1_00058000.jpg'), ([0.9831231610908076, 0.01687683890919241], '../whale_videos/Daffodil_1_images/Daffodil_1_00059000.jpg'), ([0.9849278783834886, 0.015072121616511346], '../whale_videos/Daffodil_1_images/Daffodil_1_00060000.jpg'), ([0.9848164878448367, 0.015183512155163325], '../whale_videos/Daffodil_1_images/Daffodil_1_00061000.jpg'), ([0.9827124144808048, 0.017287585519195174], '../whale_videos/Daffodil_1_images/Daffodil_1_00062000.jpg'), ([0.9840876780371118, 0.015912321962888203], '../whale_videos/Daffodil_1_images/Daffodil_1_00063000.jpg'), ([0.982320268350265, 0.01767973164973498], '../whale_videos/Daffodil_1_images/Daffodil_1_00064000.jpg'), ([0.9824658064538421, 0.01753419354615793], '../whale_videos/Daffodil_1_images/Daffodil_1_00065000.jpg'), ([0.982875402254205, 0.017124597745794983], '../whale_videos/Daffodil_1_images/Daffodil_1_00066000.jpg'), ([0.9816337187843869, 0.018366281215613074], '../whale_videos/Daffodil_1_images/Daffodil_1_00067000.jpg'), ([0.9825306382324966, 0.017469361767503407], '../whale_videos/Daffodil_1_images/Daffodil_1_00068000.jpg'), ([0.9826815793491557, 0.017318420650844314], '../whale_videos/Daffodil_1_images/Daffodil_1_00069000.jpg'), ([0.9817901486005602, 0.018209851399439706], '../whale_videos/Daffodil_1_images/Daffodil_1_00070000.jpg'), ([0.9802147941950491, 0.019785205804950953], '../whale_videos/Daffodil_1_images/Daffodil_1_00071000.jpg'), ([0.9766202508992318, 0.02337974910076822], '../whale_videos/Daffodil_1_images/Daffodil_1_00072000.jpg'), ([0.9806634680528574, 0.019336531947142563], '../whale_videos/Daffodil_1_images/Daffodil_1_00073000.jpg'), ([0.9793164115379834, 0.02068358846201658], '../whale_videos/Daffodil_1_images/Daffodil_1_00074000.jpg'), ([0.976169303636338, 0.02383069636366197], '../whale_videos/Daffodil_1_images/Daffodil_1_00075000.jpg'), ([0.9831175031116122, 0.01688249688838786], '../whale_videos/Daffodil_1_images/Daffodil_1_00076000.jpg'), ([0.9823188936149563, 0.017681106385043686], '../whale_videos/Daffodil_1_images/Daffodil_1_00077000.jpg'), ([0.972873021654281, 0.027126978345718977], '../whale_videos/Daffodil_1_images/Daffodil_1_00078000.jpg'), ([0.9637258638424421, 0.03627413615755795], '../whale_videos/Daffodil_1_images/Daffodil_1_00079000.jpg'), ([0.944032081866633, 0.05596791813336699], '../whale_videos/Daffodil_1_images/Daffodil_1_00080000.jpg'), ([0.9391353175710461, 0.0608646824289539], '../whale_videos/Daffodil_1_images/Daffodil_1_00081000.jpg'), ([0.9693977251202385, 0.030602274879761512], '../whale_videos/Daffodil_1_images/Daffodil_1_00082000.jpg'), ([0.9797880226419456, 0.02021197735805439], '../whale_videos/Daffodil_1_images/Daffodil_1_00083000.jpg'), ([0.9835443905689597, 0.016455609431040272], '../whale_videos/Daffodil_1_images/Daffodil_1_00084000.jpg'), ([0.9824301468491698, 0.017569853150830147], '../whale_videos/Daffodil_1_images/Daffodil_1_00085000.jpg'), ([0.9815123153697145, 0.01848768463028548], '../whale_videos/Daffodil_1_images/Daffodil_1_00086000.jpg'), ([0.980260774379789, 0.019739225620211], '../whale_videos/Daffodil_1_images/Daffodil_1_00087000.jpg'), ([0.9814699234380815, 0.018530076561918546], '../whale_videos/Daffodil_1_images/Daffodil_1_00088000.jpg'), ([0.9820135524333043, 0.017986447566695665], '../whale_videos/Daffodil_1_images/Daffodil_1_00089000.jpg'), ([0.9833103992676344, 0.016689600732365584], '../whale_videos/Daffodil_1_images/Daffodil_1_00090000.jpg'), ([0.9842084693273113, 0.015791530672688684], '../whale_videos/Daffodil_1_images/Daffodil_1_00091000.jpg'), ([0.9841756394368687, 0.015824360563131294], '../whale_videos/Daffodil_1_images/Daffodil_1_00092000.jpg'), ([0.9834697503947711, 0.01653024960522882], '../whale_videos/Daffodil_1_images/Daffodil_1_00093000.jpg'), ([0.9808453248079257, 0.019154675192074304], '../whale_videos/Daffodil_1_images/Daffodil_1_00094000.jpg'), ([0.9841705124866523, 0.015829487513347704], '../whale_videos/Daffodil_1_images/Daffodil_1_00095000.jpg'), ([0.9827086760915239, 0.017291323908476083], '../whale_videos/Daffodil_1_images/Daffodil_1_00096000.jpg'), ([0.9811550567896331, 0.0188449432103669], '../whale_videos/Daffodil_1_images/Daffodil_1_00097000.jpg'), ([0.9834463339275256, 0.01655366607247445], '../whale_videos/Daffodil_1_images/Daffodil_1_00098000.jpg'), ([0.9819009033414463, 0.018099096658553724], '../whale_videos/Daffodil_1_images/Daffodil_1_00099000.jpg'), ([0.9843447088848565, 0.01565529111514354], '../whale_videos/Daffodil_1_images/Daffodil_1_00100000.jpg'), ([0.9824168715214705, 0.017583128478529445], '../whale_videos/Daffodil_1_images/Daffodil_1_00101000.jpg'), ([0.9794562362917812, 0.020543763708218702], '../whale_videos/Daffodil_1_images/Daffodil_1_00102000.jpg'), ([0.9832691431203167, 0.01673085687968333], '../whale_videos/Daffodil_1_images/Daffodil_1_00103000.jpg'), ([0.9816776588973534, 0.018322341102646654], '../whale_videos/Daffodil_1_images/Daffodil_1_00104000.jpg'), ([0.9817891917257845, 0.018210808274215454], '../whale_videos/Daffodil_1_images/Daffodil_1_00105000.jpg'), ([0.9805325453991869, 0.01946745460081307], '../whale_videos/Daffodil_1_images/Daffodil_1_00106000.jpg'), ([0.9791690141257451, 0.02083098587425495], '../whale_videos/Daffodil_1_images/Daffodil_1_00107000.jpg'), ([0.9770860164049202, 0.022913983595079845], '../whale_videos/Daffodil_1_images/Daffodil_1_00108000.jpg'), ([0.9785564527761191, 0.021443547223880862], '../whale_videos/Daffodil_1_images/Daffodil_1_00109000.jpg'), ([0.9780341469305485, 0.021965853069451508], '../whale_videos/Daffodil_1_images/Daffodil_1_00110000.jpg'), ([0.9805816137814362, 0.019418386218563812], '../whale_videos/Daffodil_1_images/Daffodil_1_00111000.jpg'), ([0.9774358810343602, 0.02256411896563984], '../whale_videos/Daffodil_1_images/Daffodil_1_00112000.jpg'), ([0.9804965156501748, 0.019503484349825226], '../whale_videos/Daffodil_1_images/Daffodil_1_00113000.jpg'), ([0.979723578479413, 0.020276421520586924], '../whale_videos/Daffodil_1_images/Daffodil_1_00114000.jpg'), ([0.9807921364775725, 0.01920786352242758], '../whale_videos/Daffodil_1_images/Daffodil_1_00115000.jpg'), ([0.9796670155230927, 0.0203329844769074], '../whale_videos/Daffodil_1_images/Daffodil_1_00116000.jpg'), ([0.9818235279747829, 0.018176472025217053], '../whale_videos/Daffodil_1_images/Daffodil_1_00117000.jpg'), ([0.9822469599925083, 0.01775304000749167], '../whale_videos/Daffodil_1_images/Daffodil_1_00118000.jpg'), ([0.9819306748454498, 0.01806932515455018], '../whale_videos/Daffodil_1_images/Daffodil_1_00119000.jpg'), ([0.9809809357541899, 0.019019064245810107], '../whale_videos/Daffodil_1_images/Daffodil_1_00120000.jpg'), ([0.9805083845562318, 0.019491615443768213], '../whale_videos/Daffodil_1_images/Daffodil_1_00121000.jpg'), ([0.9729299267198028, 0.027070073280197206], '../whale_videos/Daffodil_1_images/Daffodil_1_00122000.jpg'), ([0.9669374632989989, 0.033062536701001066], '../whale_videos/Daffodil_1_images/Daffodil_1_00123000.jpg'), ([0.9807186587558951, 0.01928134124410486], '../whale_videos/Daffodil_1_images/Daffodil_1_00124000.jpg'), ([0.9816464154976864, 0.018353584502313603], '../whale_videos/Daffodil_1_images/Daffodil_1_00125000.jpg'), ([0.9815559579047501, 0.01844404209524983], '../whale_videos/Daffodil_1_images/Daffodil_1_00126000.jpg'), ([0.9776838852063583, 0.022316114793641654], '../whale_videos/Daffodil_1_images/Daffodil_1_00127000.jpg'), ([0.9797658237911181, 0.020234176208881887], '../whale_videos/Daffodil_1_images/Daffodil_1_00128000.jpg'), ([0.9819629970368147, 0.018037002963185295], '../whale_videos/Daffodil_1_images/Daffodil_1_00129000.jpg'), ([0.9831241881167333, 0.01687581188326666], '../whale_videos/Daffodil_1_images/Daffodil_1_00130000.jpg'), ([0.9743946265854947, 0.025605373414505302], '../whale_videos/Daffodil_1_images/Daffodil_1_00131000.jpg'), ([0.9792880890567753, 0.02071191094322471], '../whale_videos/Daffodil_1_images/Daffodil_1_00132000.jpg'), ([0.9814600462846144, 0.01853995371538568], '../whale_videos/Daffodil_1_images/Daffodil_1_00133000.jpg'), ([0.9771328884814752, 0.022867111518524837], '../whale_videos/Daffodil_1_images/Daffodil_1_00134000.jpg'), ([0.9828920251371288, 0.017107974862871207], '../whale_videos/Daffodil_1_images/Daffodil_1_00135000.jpg'), ([0.9823715303897158, 0.017628469610284223], '../whale_videos/Daffodil_1_images/Daffodil_1_00136000.jpg'), ([0.9826330928993317, 0.01736690710066836], '../whale_videos/Daffodil_1_images/Daffodil_1_00137000.jpg'), ([0.9813745643460735, 0.018625435653926492], '../whale_videos/Daffodil_1_images/Daffodil_1_00138000.jpg'), ([0.9780270750501623, 0.021972924949837734], '../whale_videos/Daffodil_1_images/Daffodil_1_00139000.jpg'), ([0.980511905610015, 0.019488094389985028], '../whale_videos/Daffodil_1_images/Daffodil_1_00140000.jpg'), ([0.9792576170339079, 0.02074238296609212], '../whale_videos/Daffodil_1_images/Daffodil_1_00141000.jpg'), ([0.9786079607453533, 0.021392039254646767], '../whale_videos/Daffodil_1_images/Daffodil_1_00142000.jpg'), ([0.9789442033303641, 0.021055796669635914], '../whale_videos/Daffodil_1_images/Daffodil_1_00143000.jpg'), ([0.9785240798435658, 0.021475920156434205], '../whale_videos/Daffodil_1_images/Daffodil_1_00144000.jpg'), ([0.9798397006168067, 0.020160299383193275], '../whale_videos/Daffodil_1_images/Daffodil_1_00145000.jpg'), ([0.9769346021639714, 0.023065397836028588], '../whale_videos/Daffodil_1_images/Daffodil_1_00146000.jpg'), ([0.9805275714757317, 0.0194724285242683], '../whale_videos/Daffodil_1_images/Daffodil_1_00147000.jpg'), ([0.9785742467193326, 0.02142575328066743], '../whale_videos/Daffodil_1_images/Daffodil_1_00148000.jpg'), ([0.9784429083418205, 0.021557091658179532], '../whale_videos/Daffodil_1_images/Daffodil_1_00149000.jpg'), ([0.9801136009630026, 0.019886399036997352], '../whale_videos/Daffodil_1_images/Daffodil_1_00150000.jpg'), ([0.9804037955535361, 0.019596204446463875], '../whale_videos/Daffodil_1_images/Daffodil_1_00151000.jpg'), ([0.9796916949236986, 0.020308305076301405], '../whale_videos/Daffodil_1_images/Daffodil_1_00152000.jpg'), ([0.9758363394721441, 0.024163660527855853], '../whale_videos/Daffodil_1_images/Daffodil_1_00153000.jpg'), ([0.9724657371939983, 0.02753426280600168], '../whale_videos/Daffodil_1_images/Daffodil_1_00154000.jpg'), ([0.9777599434742335, 0.022240056525766508], '../whale_videos/Daffodil_1_images/Daffodil_1_00155000.jpg'), ([0.9806108393076354, 0.019389160692364595], '../whale_videos/Daffodil_1_images/Daffodil_1_00156000.jpg'), ([0.9806360288346101, 0.01936397116538992], '../whale_videos/Daffodil_1_images/Daffodil_1_00157000.jpg'), ([0.9802598850776116, 0.019740114922388342], '../whale_videos/Daffodil_1_images/Daffodil_1_00158000.jpg'), ([0.980263914478516, 0.019736085521483978], '../whale_videos/Daffodil_1_images/Daffodil_1_00159000.jpg'), ([0.9800102882843528, 0.019989711715647198], '../whale_videos/Daffodil_1_images/Daffodil_1_00160000.jpg'), ([0.9815991538204767, 0.018400846179523308], '../whale_videos/Daffodil_1_images/Daffodil_1_00161000.jpg'), ([0.9809864761750365, 0.019013523824963498], '../whale_videos/Daffodil_1_images/Daffodil_1_00162000.jpg'), ([0.9821705252865326, 0.01782947471346743], '../whale_videos/Daffodil_1_images/Daffodil_1_00163000.jpg'), ([0.9829282898091375, 0.01707171019086247], '../whale_videos/Daffodil_1_images/Daffodil_1_00164000.jpg'), ([0.9810828870364143, 0.018917112963585645], '../whale_videos/Daffodil_1_images/Daffodil_1_00165000.jpg'), ([0.9780816661897481, 0.02191833381025184], '../whale_videos/Daffodil_1_images/Daffodil_1_00166000.jpg'), ([0.9827122025615764, 0.017287797438423534], '../whale_videos/Daffodil_1_images/Daffodil_1_00167000.jpg'), ([0.9810837955889795, 0.0189162044110205], '../whale_videos/Daffodil_1_images/Daffodil_1_00168000.jpg'), ([0.9826439557940879, 0.017356044205912132], '../whale_videos/Daffodil_1_images/Daffodil_1_00169000.jpg'), ([0.9764341206205462, 0.023565879379453755], '../whale_videos/Daffodil_1_images/Daffodil_1_00170000.jpg'), ([0.9838221127323262, 0.016177887267673774], '../whale_videos/Daffodil_1_images/Daffodil_1_00171000.jpg'), ([0.9832923888608267, 0.016707611139173257], '../whale_videos/Daffodil_1_images/Daffodil_1_00172000.jpg'), ([0.9831136031367264, 0.016886396863273687], '../whale_videos/Daffodil_1_images/Daffodil_1_00173000.jpg'), ([0.9820566721300392, 0.01794332786996083], '../whale_videos/Daffodil_1_images/Daffodil_1_00174000.jpg'), ([0.9819518589965089, 0.018048141003491048], '../whale_videos/Daffodil_1_images/Daffodil_1_00175000.jpg'), ([0.9822478022587179, 0.017752197741282092], '../whale_videos/Daffodil_1_images/Daffodil_1_00176000.jpg'), ([0.9780406920127895, 0.021959307987210453], '../whale_videos/Daffodil_1_images/Daffodil_1_00177000.jpg'), ([0.9823160456780373, 0.01768395432196266], '../whale_videos/Daffodil_1_images/Daffodil_1_00178000.jpg'), ([0.9762451869255216, 0.02375481307447838], '../whale_videos/Daffodil_1_images/Daffodil_1_00179000.jpg'), ([0.9823495976790212, 0.017650402320978788], '../whale_videos/Daffodil_1_images/Daffodil_1_00180000.jpg'), ([0.9801528139511794, 0.019847186048820662], '../whale_videos/Daffodil_1_images/Daffodil_1_00181000.jpg'), ([0.9786536070580517, 0.02134639294194829], '../whale_videos/Daffodil_1_images/Daffodil_1_00182000.jpg'), ([0.9823321367772638, 0.017667863222736127], '../whale_videos/Daffodil_1_images/Daffodil_1_00183000.jpg'), ([0.980458628871101, 0.019541371128898945], '../whale_videos/Daffodil_1_images/Daffodil_1_00184000.jpg'), ([0.9802874819331364, 0.019712518066863537], '../whale_videos/Daffodil_1_images/Daffodil_1_00185000.jpg'), ([0.9814064567711345, 0.01859354322886554], '../whale_videos/Daffodil_1_images/Daffodil_1_00186000.jpg'), ([0.9823612992312037, 0.017638700768796263], '../whale_videos/Daffodil_1_images/Daffodil_1_00187000.jpg')]\n",
      "\n",
      "for heldout video: Daffodil_2\n",
      "0.9705882352941176\n",
      "(459, 6) (459, 1)\n",
      "weight parameters:  [[-1.29952117 -1.19533508  0.24113285  0.48459915  0.76962964  0.71304772]]\n",
      "[([0.9799153028962093, 0.020084697103790693], '../whale_videos/Daffodil_2_images/Daffodil_2_00001000.jpg'), ([0.9829956242242655, 0.01700437577573453], '../whale_videos/Daffodil_2_images/Daffodil_2_00002000.jpg'), ([0.9815599423446961, 0.018440057655303887], '../whale_videos/Daffodil_2_images/Daffodil_2_00003000.jpg'), ([0.9789970907167783, 0.021002909283221675], '../whale_videos/Daffodil_2_images/Daffodil_2_00004000.jpg'), ([0.9774355766137652, 0.022564423386234805], '../whale_videos/Daffodil_2_images/Daffodil_2_00005000.jpg'), ([0.9673137379402859, 0.03268626205971418], '../whale_videos/Daffodil_2_images/Daffodil_2_00006000.jpg'), ([0.9748777231948249, 0.02512227680517504], '../whale_videos/Daffodil_2_images/Daffodil_2_00007000.jpg'), ([0.9243670617281636, 0.0756329382718364], '../whale_videos/Daffodil_2_images/Daffodil_2_00008000.jpg'), ([0.9687436089459854, 0.03125639105401458], '../whale_videos/Daffodil_2_images/Daffodil_2_00009000.jpg'), ([0.9752965633701461, 0.024703436629853873], '../whale_videos/Daffodil_2_images/Daffodil_2_00010000.jpg'), ([0.9765834465782415, 0.0234165534217585], '../whale_videos/Daffodil_2_images/Daffodil_2_00011000.jpg'), ([0.9683859468347377, 0.03161405316526238], '../whale_videos/Daffodil_2_images/Daffodil_2_00012000.jpg'), ([0.9373377434039332, 0.06266225659606689], '../whale_videos/Daffodil_2_images/Daffodil_2_00013000.jpg'), ([0.8820394433880893, 0.11796055661191077], '../whale_videos/Daffodil_2_images/Daffodil_2_00014000.jpg'), ([0.8750551320419245, 0.12494486795807543], '../whale_videos/Daffodil_2_images/Daffodil_2_00015000.jpg'), ([0.9358867534478773, 0.06411324655212268], '../whale_videos/Daffodil_2_images/Daffodil_2_00016000.jpg'), ([0.9238116668723247, 0.07618833312767521], '../whale_videos/Daffodil_2_images/Daffodil_2_00017000.jpg'), ([0.8697061281532665, 0.13029387184673352], '../whale_videos/Daffodil_2_images/Daffodil_2_00018000.jpg'), ([0.973806818112489, 0.026193181887510956], '../whale_videos/Daffodil_2_images/Daffodil_2_00019000.jpg'), ([0.9750024553529153, 0.024997544647084716], '../whale_videos/Daffodil_2_images/Daffodil_2_00020000.jpg'), ([0.983230141705854, 0.016769858294145984], '../whale_videos/Daffodil_2_images/Daffodil_2_00021000.jpg'), ([0.9823216751482329, 0.017678324851767152], '../whale_videos/Daffodil_2_images/Daffodil_2_00022000.jpg'), ([0.9757830135019973, 0.024216986498002743], '../whale_videos/Daffodil_2_images/Daffodil_2_00023000.jpg'), ([0.9578088430449457, 0.04219115695505431], '../whale_videos/Daffodil_2_images/Daffodil_2_00024000.jpg'), ([0.9814716503474732, 0.018528349652526817], '../whale_videos/Daffodil_2_images/Daffodil_2_00025000.jpg'), ([0.9871482791763758, 0.012851720823624182], '../whale_videos/Daffodil_2_images/Daffodil_2_00026000.jpg'), ([0.9811052232959699, 0.018894776704030048], '../whale_videos/Daffodil_2_images/Daffodil_2_00027000.jpg'), ([0.9872208333696806, 0.012779166630319373], '../whale_videos/Daffodil_2_images/Daffodil_2_00028000.jpg'), ([0.9835157412039389, 0.016484258796061097], '../whale_videos/Daffodil_2_images/Daffodil_2_00029000.jpg'), ([0.9719480136569436, 0.028051986343056372], '../whale_videos/Daffodil_2_images/Daffodil_2_00030000.jpg'), ([0.948767561177026, 0.051232438822974034], '../whale_videos/Daffodil_2_images/Daffodil_2_00031000.jpg'), ([0.9769487909746971, 0.02305120902530294], '../whale_videos/Daffodil_2_images/Daffodil_2_00032000.jpg'), ([0.9822106858882207, 0.017789314111779333], '../whale_videos/Daffodil_2_images/Daffodil_2_00033000.jpg'), ([0.9840402828394631, 0.015959717160536874], '../whale_videos/Daffodil_2_images/Daffodil_2_00034000.jpg'), ([0.9780627852387527, 0.021937214761247353], '../whale_videos/Daffodil_2_images/Daffodil_2_00035000.jpg'), ([0.9805667130743262, 0.01943328692567379], '../whale_videos/Daffodil_2_images/Daffodil_2_00036000.jpg'), ([0.8023609971532789, 0.19763900284672106], '../whale_videos/Daffodil_2_images/Daffodil_2_00037000.jpg'), ([0.8133344535320294, 0.18666554646797065], '../whale_videos/Daffodil_2_images/Daffodil_2_00038000.jpg'), ([0.8859873360515548, 0.11401266394844523], '../whale_videos/Daffodil_2_images/Daffodil_2_00039000.jpg'), ([0.9819131602677654, 0.018086839732234624], '../whale_videos/Daffodil_2_images/Daffodil_2_00040000.jpg'), ([0.9835735429216489, 0.01642645707835108], '../whale_videos/Daffodil_2_images/Daffodil_2_00041000.jpg'), ([0.9881535472602408, 0.011846452739759185], '../whale_videos/Daffodil_2_images/Daffodil_2_00042000.jpg'), ([0.9876490746162976, 0.012350925383702412], '../whale_videos/Daffodil_2_images/Daffodil_2_00043000.jpg'), ([0.9868251011165535, 0.013174898883446447], '../whale_videos/Daffodil_2_images/Daffodil_2_00044000.jpg'), ([0.9885458394297979, 0.011454160570202102], '../whale_videos/Daffodil_2_images/Daffodil_2_00045000.jpg'), ([0.9858645270682136, 0.014135472931786462], '../whale_videos/Daffodil_2_images/Daffodil_2_00046000.jpg'), ([0.9859096787537737, 0.01409032124622638], '../whale_videos/Daffodil_2_images/Daffodil_2_00047000.jpg'), ([0.9798036364289042, 0.020196363571095742], '../whale_videos/Daffodil_2_images/Daffodil_2_00048000.jpg'), ([0.9781285880449552, 0.02187141195504478], '../whale_videos/Daffodil_2_images/Daffodil_2_00049000.jpg'), ([0.9711363609714704, 0.028863639028529616], '../whale_videos/Daffodil_2_images/Daffodil_2_00050000.jpg'), ([0.9730664221994736, 0.026933577800526458], '../whale_videos/Daffodil_2_images/Daffodil_2_00051000.jpg'), ([0.974919168159137, 0.025080831840862978], '../whale_videos/Daffodil_2_images/Daffodil_2_00052000.jpg'), ([0.9729208669199136, 0.02707913308008636], '../whale_videos/Daffodil_2_images/Daffodil_2_00053000.jpg'), ([0.978448428351553, 0.02155157164844701], '../whale_videos/Daffodil_2_images/Daffodil_2_00054000.jpg'), ([0.7875434440046711, 0.2124565559953288], '../whale_videos/Daffodil_2_images/Daffodil_2_00055000.jpg'), ([0.8801291515538674, 0.11987084844613263], '../whale_videos/Daffodil_2_images/Daffodil_2_00056000.jpg'), ([0.878082396909758, 0.12191760309024197], '../whale_videos/Daffodil_2_images/Daffodil_2_00057000.jpg'), ([0.8757771248412385, 0.1242228751587615], '../whale_videos/Daffodil_2_images/Daffodil_2_00058000.jpg'), ([0.9572189850567947, 0.04278101494320525], '../whale_videos/Daffodil_2_images/Daffodil_2_00059000.jpg'), ([0.9676808521823641, 0.032319147817635875], '../whale_videos/Daffodil_2_images/Daffodil_2_00060000.jpg'), ([0.9791338863420557, 0.02086611365794433], '../whale_videos/Daffodil_2_images/Daffodil_2_00061000.jpg'), ([0.972871345400357, 0.027128654599642952], '../whale_videos/Daffodil_2_images/Daffodil_2_00062000.jpg'), ([0.9655805099365288, 0.03441949006347127], '../whale_videos/Daffodil_2_images/Daffodil_2_00063000.jpg'), ([0.8633962197391657, 0.13660378026083428], '../whale_videos/Daffodil_2_images/Daffodil_2_00064000.jpg'), ([0.8828457219718572, 0.11715427802814284], '../whale_videos/Daffodil_2_images/Daffodil_2_00065000.jpg'), ([0.8987210576592567, 0.10127894234074335], '../whale_videos/Daffodil_2_images/Daffodil_2_00066000.jpg'), ([0.9097851161718984, 0.09021488382810157], '../whale_videos/Daffodil_2_images/Daffodil_2_00067000.jpg'), ([0.9110277791772854, 0.08897222082271455], '../whale_videos/Daffodil_2_images/Daffodil_2_00068000.jpg')]\n",
      "\n",
      "for heldout video: Fan_1\n",
      "0.9402985074626866\n",
      "(460, 6) (460, 1)\n",
      "weight parameters:  [[-1.49923266 -1.33663791  0.0984037   0.58296331  0.63445896  0.58131706]]\n",
      "[([0.9842957504700478, 0.015704249529952145], '../whale_videos/Fan_1_images/Fan_1_00001000.jpg'), ([0.9824350826250401, 0.0175649173749599], '../whale_videos/Fan_1_images/Fan_1_00002000.jpg'), ([0.9830708610429223, 0.016929138957077657], '../whale_videos/Fan_1_images/Fan_1_00003000.jpg'), ([0.9846269145453833, 0.015373085454616724], '../whale_videos/Fan_1_images/Fan_1_00004000.jpg'), ([0.9845668919411772, 0.015433108058822793], '../whale_videos/Fan_1_images/Fan_1_00005000.jpg'), ([0.9835997928486633, 0.016400207151336756], '../whale_videos/Fan_1_images/Fan_1_00006000.jpg'), ([0.9854741183754481, 0.01452588162455198], '../whale_videos/Fan_1_images/Fan_1_00007000.jpg'), ([0.9849338218101638, 0.01506617818983625], '../whale_videos/Fan_1_images/Fan_1_00008000.jpg'), ([0.9858968988628465, 0.014103101137153537], '../whale_videos/Fan_1_images/Fan_1_00009000.jpg'), ([0.9870418563943506, 0.012958143605649423], '../whale_videos/Fan_1_images/Fan_1_00010000.jpg'), ([0.9874580286195777, 0.01254197138042233], '../whale_videos/Fan_1_images/Fan_1_00011000.jpg'), ([0.9899536836460089, 0.010046316353991168], '../whale_videos/Fan_1_images/Fan_1_00012000.jpg'), ([0.989457514685066, 0.010542485314933958], '../whale_videos/Fan_1_images/Fan_1_00013000.jpg'), ([0.9913145429773201, 0.008685457022679892], '../whale_videos/Fan_1_images/Fan_1_00014000.jpg'), ([0.990569097513273, 0.009430902486726978], '../whale_videos/Fan_1_images/Fan_1_00015000.jpg'), ([0.9869138221100628, 0.013086177889937153], '../whale_videos/Fan_1_images/Fan_1_00016000.jpg'), ([0.9835051147216027, 0.01649488527839722], '../whale_videos/Fan_1_images/Fan_1_00017000.jpg'), ([0.9850000672877339, 0.014999932712266127], '../whale_videos/Fan_1_images/Fan_1_00018000.jpg'), ([0.9748591334870337, 0.02514086651296635], '../whale_videos/Fan_1_images/Fan_1_00019000.jpg'), ([0.9825457151282011, 0.017454284871798918], '../whale_videos/Fan_1_images/Fan_1_00020000.jpg'), ([0.988165156499533, 0.011834843500467094], '../whale_videos/Fan_1_images/Fan_1_00021000.jpg'), ([0.986986321876537, 0.013013678123463008], '../whale_videos/Fan_1_images/Fan_1_00022000.jpg'), ([0.9868128806191352, 0.013187119380864767], '../whale_videos/Fan_1_images/Fan_1_00023000.jpg'), ([0.98528583236032, 0.014714167639680012], '../whale_videos/Fan_1_images/Fan_1_00024000.jpg'), ([0.9838051170434998, 0.016194882956500168], '../whale_videos/Fan_1_images/Fan_1_00025000.jpg'), ([0.9862268533547969, 0.01377314664520308], '../whale_videos/Fan_1_images/Fan_1_00026000.jpg'), ([0.9901435583888, 0.009856441611200067], '../whale_videos/Fan_1_images/Fan_1_00027000.jpg'), ([0.9727710446408901, 0.027228955359109908], '../whale_videos/Fan_1_images/Fan_1_00028000.jpg'), ([0.9585814802097302, 0.04141851979026979], '../whale_videos/Fan_1_images/Fan_1_00029000.jpg'), ([0.9542585861982286, 0.04574141380177147], '../whale_videos/Fan_1_images/Fan_1_00030000.jpg'), ([0.94181972987294, 0.05818027012705991], '../whale_videos/Fan_1_images/Fan_1_00031000.jpg'), ([0.9474951569076081, 0.05250484309239185], '../whale_videos/Fan_1_images/Fan_1_00032000.jpg'), ([0.9355274871013924, 0.06447251289860757], '../whale_videos/Fan_1_images/Fan_1_00033000.jpg'), ([0.9808805753919261, 0.019119424608073896], '../whale_videos/Fan_1_images/Fan_1_00034000.jpg'), ([0.9843120215478207, 0.01568797845217923], '../whale_videos/Fan_1_images/Fan_1_00035000.jpg'), ([0.9841637963961384, 0.01583620360386161], '../whale_videos/Fan_1_images/Fan_1_00036000.jpg'), ([0.9872922475117049, 0.01270775248829512], '../whale_videos/Fan_1_images/Fan_1_00037000.jpg'), ([0.9839519326671319, 0.016048067332868076], '../whale_videos/Fan_1_images/Fan_1_00038000.jpg'), ([0.9801656154860058, 0.019834384513994247], '../whale_videos/Fan_1_images/Fan_1_00039000.jpg'), ([0.9860018398261952, 0.01399816017380482], '../whale_videos/Fan_1_images/Fan_1_00040000.jpg'), ([0.9404638852557381, 0.05953611474426189], '../whale_videos/Fan_1_images/Fan_1_00041000.jpg'), ([0.9326578808670929, 0.06734211913290715], '../whale_videos/Fan_1_images/Fan_1_00042000.jpg'), ([0.6846003552912732, 0.3153996447087268], '../whale_videos/Fan_1_images/Fan_1_00043000.jpg'), ([0.9605875027865602, 0.03941249721343978], '../whale_videos/Fan_1_images/Fan_1_00044000.jpg'), ([0.938057321898099, 0.06194267810190101], '../whale_videos/Fan_1_images/Fan_1_00045000.jpg'), ([0.9502683084576582, 0.04973169154234177], '../whale_videos/Fan_1_images/Fan_1_00046000.jpg'), ([0.9411979599482908, 0.05880204005170921], '../whale_videos/Fan_1_images/Fan_1_00047000.jpg'), ([0.964657379903233, 0.03534262009676703], '../whale_videos/Fan_1_images/Fan_1_00048000.jpg'), ([0.9811042967057977, 0.018895703294202315], '../whale_videos/Fan_1_images/Fan_1_00049000.jpg'), ([0.968738869691414, 0.03126113030858598], '../whale_videos/Fan_1_images/Fan_1_00050000.jpg'), ([0.9859922814191122, 0.014007718580887792], '../whale_videos/Fan_1_images/Fan_1_00051000.jpg'), ([0.9856715957564162, 0.014328404243583812], '../whale_videos/Fan_1_images/Fan_1_00052000.jpg'), ([0.986423022189675, 0.013576977810324927], '../whale_videos/Fan_1_images/Fan_1_00053000.jpg'), ([0.9845663991280503, 0.015433600871949631], '../whale_videos/Fan_1_images/Fan_1_00054000.jpg'), ([0.9851934552305636, 0.014806544769436483], '../whale_videos/Fan_1_images/Fan_1_00055000.jpg'), ([0.9852746241096503, 0.014725375890349777], '../whale_videos/Fan_1_images/Fan_1_00056000.jpg'), ([0.9885458567852015, 0.011454143214798566], '../whale_videos/Fan_1_images/Fan_1_00057000.jpg'), ([0.991815935768, 0.008184064231999999], '../whale_videos/Fan_1_images/Fan_1_00058000.jpg'), ([0.9920134093249572, 0.00798659067504282], '../whale_videos/Fan_1_images/Fan_1_00059000.jpg'), ([0.9918884350884105, 0.00811156491158948], '../whale_videos/Fan_1_images/Fan_1_00060000.jpg'), ([0.9928996233289304, 0.007100376671069575], '../whale_videos/Fan_1_images/Fan_1_00061000.jpg'), ([0.9913720418434735, 0.008627958156526472], '../whale_videos/Fan_1_images/Fan_1_00062000.jpg'), ([0.9896902339500891, 0.010309766049910903], '../whale_videos/Fan_1_images/Fan_1_00063000.jpg'), ([0.9886699405917616, 0.011330059408238446], '../whale_videos/Fan_1_images/Fan_1_00064000.jpg'), ([0.9880467194015006, 0.011953280598499462], '../whale_videos/Fan_1_images/Fan_1_00065000.jpg'), ([0.9882418386484058, 0.011758161351594259], '../whale_videos/Fan_1_images/Fan_1_00066000.jpg'), ([0.9867766595581174, 0.013223340441882538], '../whale_videos/Fan_1_images/Fan_1_00067000.jpg')]\n",
      "\n",
      "for heldout video: Fan_2\n",
      "1.0\n",
      "(410, 6) (410, 1)\n",
      "weight parameters:  [[-1.09262709 -1.19054134 -0.08010141  0.4330734   0.85879854  0.84375483]]\n",
      "[([0.9626227871613231, 0.03737721283867691], '../whale_videos/Fan_2_images/Fan_2_00001000.jpg'), ([0.9607461209537766, 0.03925387904622336], '../whale_videos/Fan_2_images/Fan_2_00002000.jpg'), ([0.9547992570739278, 0.04520074292607225], '../whale_videos/Fan_2_images/Fan_2_00003000.jpg'), ([0.9646050171632475, 0.03539498283675245], '../whale_videos/Fan_2_images/Fan_2_00004000.jpg'), ([0.9716908172908469, 0.02830918270915301], '../whale_videos/Fan_2_images/Fan_2_00005000.jpg'), ([0.9744101340265666, 0.025589865973433403], '../whale_videos/Fan_2_images/Fan_2_00006000.jpg'), ([0.9718870570795861, 0.028112942920413855], '../whale_videos/Fan_2_images/Fan_2_00007000.jpg'), ([0.9673625596993144, 0.03263744030068559], '../whale_videos/Fan_2_images/Fan_2_00008000.jpg'), ([0.966080074989119, 0.033919925010881063], '../whale_videos/Fan_2_images/Fan_2_00009000.jpg'), ([0.965317141225414, 0.03468285877458595], '../whale_videos/Fan_2_images/Fan_2_00010000.jpg'), ([0.9688665858261937, 0.031133414173806342], '../whale_videos/Fan_2_images/Fan_2_00011000.jpg'), ([0.9666510193763952, 0.033348980623604765], '../whale_videos/Fan_2_images/Fan_2_00012000.jpg'), ([0.9663933797364755, 0.03360662026352441], '../whale_videos/Fan_2_images/Fan_2_00013000.jpg'), ([0.9660745239784414, 0.03392547602155854], '../whale_videos/Fan_2_images/Fan_2_00014000.jpg'), ([0.9649688378213845, 0.035031162178615474], '../whale_videos/Fan_2_images/Fan_2_00015000.jpg'), ([0.9597300728775499, 0.040269927122450144], '../whale_videos/Fan_2_images/Fan_2_00016000.jpg'), ([0.9605489363478511, 0.03945106365214887], '../whale_videos/Fan_2_images/Fan_2_00017000.jpg'), ([0.962208828670159, 0.037791171329841014], '../whale_videos/Fan_2_images/Fan_2_00018000.jpg'), ([0.9700439078488545, 0.029956092151145423], '../whale_videos/Fan_2_images/Fan_2_00019000.jpg'), ([0.9611456299285764, 0.038854370071423595], '../whale_videos/Fan_2_images/Fan_2_00020000.jpg'), ([0.9692743193205401, 0.030725680679459935], '../whale_videos/Fan_2_images/Fan_2_00021000.jpg'), ([0.9640003461225929, 0.03599965387740713], '../whale_videos/Fan_2_images/Fan_2_00022000.jpg'), ([0.9692558640583563, 0.030744135941643738], '../whale_videos/Fan_2_images/Fan_2_00023000.jpg'), ([0.9681325542927295, 0.031867445707270514], '../whale_videos/Fan_2_images/Fan_2_00024000.jpg'), ([0.9669778949950671, 0.0330221050049329], '../whale_videos/Fan_2_images/Fan_2_00025000.jpg'), ([0.9661238636523055, 0.033876136347694444], '../whale_videos/Fan_2_images/Fan_2_00026000.jpg'), ([0.9686867491003461, 0.031313250899653915], '../whale_videos/Fan_2_images/Fan_2_00027000.jpg'), ([0.968468188205382, 0.03153181179461798], '../whale_videos/Fan_2_images/Fan_2_00028000.jpg'), ([0.9629662502271187, 0.03703374977288128], '../whale_videos/Fan_2_images/Fan_2_00029000.jpg'), ([0.9636446914866109, 0.03635530851338905], '../whale_videos/Fan_2_images/Fan_2_00030000.jpg'), ([0.9646278247278363, 0.03537217527216375], '../whale_videos/Fan_2_images/Fan_2_00031000.jpg'), ([0.9724983780154092, 0.027501621984590836], '../whale_videos/Fan_2_images/Fan_2_00032000.jpg'), ([0.9676414831645992, 0.03235851683540077], '../whale_videos/Fan_2_images/Fan_2_00033000.jpg'), ([0.9485161320020452, 0.05148386799795477], '../whale_videos/Fan_2_images/Fan_2_00034000.jpg'), ([0.9600284958980241, 0.039971504101975946], '../whale_videos/Fan_2_images/Fan_2_00035000.jpg'), ([0.9651546985029185, 0.0348453014970815], '../whale_videos/Fan_2_images/Fan_2_00036000.jpg'), ([0.9617607058302202, 0.03823929416977977], '../whale_videos/Fan_2_images/Fan_2_00037000.jpg'), ([0.9627834543871839, 0.0372165456128161], '../whale_videos/Fan_2_images/Fan_2_00038000.jpg'), ([0.966896634882214, 0.03310336511778597], '../whale_videos/Fan_2_images/Fan_2_00039000.jpg'), ([0.9702404824105089, 0.029759517589491084], '../whale_videos/Fan_2_images/Fan_2_00040000.jpg'), ([0.9626619510113658, 0.0373380489886342], '../whale_videos/Fan_2_images/Fan_2_00041000.jpg'), ([0.965802847929759, 0.03419715207024102], '../whale_videos/Fan_2_images/Fan_2_00042000.jpg'), ([0.9664937971167895, 0.033506202883210545], '../whale_videos/Fan_2_images/Fan_2_00043000.jpg'), ([0.9690692932764055, 0.030930706723594582], '../whale_videos/Fan_2_images/Fan_2_00044000.jpg'), ([0.9661690409785779, 0.033830959021422094], '../whale_videos/Fan_2_images/Fan_2_00045000.jpg'), ([0.9612690733703234, 0.0387309266296766], '../whale_videos/Fan_2_images/Fan_2_00046000.jpg'), ([0.9609660939672299, 0.0390339060327701], '../whale_videos/Fan_2_images/Fan_2_00047000.jpg'), ([0.972130844220925, 0.027869155779074988], '../whale_videos/Fan_2_images/Fan_2_00048000.jpg'), ([0.9668843391516946, 0.033115660848305396], '../whale_videos/Fan_2_images/Fan_2_00049000.jpg'), ([0.9624175549031933, 0.03758244509680673], '../whale_videos/Fan_2_images/Fan_2_00050000.jpg'), ([0.9581203645172008, 0.04187963548279914], '../whale_videos/Fan_2_images/Fan_2_00051000.jpg'), ([0.965466503536863, 0.03453349646313698], '../whale_videos/Fan_2_images/Fan_2_00052000.jpg'), ([0.967765010269672, 0.032234989730328026], '../whale_videos/Fan_2_images/Fan_2_00053000.jpg'), ([0.9642818881472277, 0.03571811185277225], '../whale_videos/Fan_2_images/Fan_2_00054000.jpg'), ([0.9662831452071137, 0.03371685479288631], '../whale_videos/Fan_2_images/Fan_2_00055000.jpg'), ([0.9699626384556984, 0.030037361544301634], '../whale_videos/Fan_2_images/Fan_2_00056000.jpg'), ([0.9613518975649691, 0.03864810243503096], '../whale_videos/Fan_2_images/Fan_2_00057000.jpg'), ([0.9643852257020645, 0.03561477429793546], '../whale_videos/Fan_2_images/Fan_2_00058000.jpg'), ([0.9642768380296811, 0.03572316197031889], '../whale_videos/Fan_2_images/Fan_2_00059000.jpg'), ([0.9689939856630506, 0.03100601433694935], '../whale_videos/Fan_2_images/Fan_2_00060000.jpg'), ([0.9659506011725644, 0.03404939882743559], '../whale_videos/Fan_2_images/Fan_2_00061000.jpg'), ([0.9625738531640309, 0.037426146835969155], '../whale_videos/Fan_2_images/Fan_2_00062000.jpg'), ([0.9614410290309251, 0.038558970969074916], '../whale_videos/Fan_2_images/Fan_2_00063000.jpg'), ([0.9366577185359647, 0.06334228146403531], '../whale_videos/Fan_2_images/Fan_2_00064000.jpg'), ([0.9510904638057847, 0.04890953619421532], '../whale_videos/Fan_2_images/Fan_2_00065000.jpg'), ([0.944983259807349, 0.055016740192650966], '../whale_videos/Fan_2_images/Fan_2_00066000.jpg'), ([0.9206465652609119, 0.07935343473908812], '../whale_videos/Fan_2_images/Fan_2_00067000.jpg'), ([0.8216650776474176, 0.1783349223525824], '../whale_videos/Fan_2_images/Fan_2_00068000.jpg'), ([0.8353700069717132, 0.1646299930282869], '../whale_videos/Fan_2_images/Fan_2_00069000.jpg'), ([0.7352194124537391, 0.2647805875462609], '../whale_videos/Fan_2_images/Fan_2_00070000.jpg'), ([0.5857170757632258, 0.41428292423677415], '../whale_videos/Fan_2_images/Fan_2_00071000.jpg'), ([0.820540057824715, 0.17945994217528505], '../whale_videos/Fan_2_images/Fan_2_00072000.jpg'), ([0.8202966269277199, 0.1797033730722801], '../whale_videos/Fan_2_images/Fan_2_00073000.jpg'), ([0.9563847158258773, 0.04361528417412279], '../whale_videos/Fan_2_images/Fan_2_00074000.jpg'), ([0.974480127116597, 0.025519872883402905], '../whale_videos/Fan_2_images/Fan_2_00075000.jpg'), ([0.9797989921124302, 0.020201007887569858], '../whale_videos/Fan_2_images/Fan_2_00076000.jpg'), ([0.9802250136417252, 0.01977498635827484], '../whale_videos/Fan_2_images/Fan_2_00077000.jpg'), ([0.9735254345308911, 0.026474565469108893], '../whale_videos/Fan_2_images/Fan_2_00078000.jpg'), ([0.9672337968106038, 0.03276620318939615], '../whale_videos/Fan_2_images/Fan_2_00079000.jpg'), ([0.9629300298470552, 0.03706997015294479], '../whale_videos/Fan_2_images/Fan_2_00080000.jpg'), ([0.9567676658174167, 0.04323233418258327], '../whale_videos/Fan_2_images/Fan_2_00081000.jpg'), ([0.9627893829799973, 0.03721061702000271], '../whale_videos/Fan_2_images/Fan_2_00082000.jpg'), ([0.9589745037166598, 0.041025496283340145], '../whale_videos/Fan_2_images/Fan_2_00083000.jpg'), ([0.9612850312396467, 0.0387149687603533], '../whale_videos/Fan_2_images/Fan_2_00084000.jpg'), ([0.9614781645523002, 0.038521835447699826], '../whale_videos/Fan_2_images/Fan_2_00085000.jpg'), ([0.9609167052448299, 0.03908329475517014], '../whale_videos/Fan_2_images/Fan_2_00086000.jpg'), ([0.9576146600810628, 0.042385339918937275], '../whale_videos/Fan_2_images/Fan_2_00087000.jpg'), ([0.9695030151375373, 0.030496984862462682], '../whale_videos/Fan_2_images/Fan_2_00088000.jpg'), ([0.9782487003016904, 0.021751299698309603], '../whale_videos/Fan_2_images/Fan_2_00089000.jpg'), ([0.9763923796971318, 0.023607620302868174], '../whale_videos/Fan_2_images/Fan_2_00090000.jpg'), ([0.9774822030219381, 0.022517796978061867], '../whale_videos/Fan_2_images/Fan_2_00091000.jpg'), ([0.9783469806853917, 0.021653019314608307], '../whale_videos/Fan_2_images/Fan_2_00092000.jpg'), ([0.973929306543268, 0.026070693456732016], '../whale_videos/Fan_2_images/Fan_2_00093000.jpg'), ([0.9717027733387666, 0.028297226661233375], '../whale_videos/Fan_2_images/Fan_2_00094000.jpg'), ([0.96608972236801, 0.033910277631989984], '../whale_videos/Fan_2_images/Fan_2_00095000.jpg'), ([0.9743415029375802, 0.025658497062419818], '../whale_videos/Fan_2_images/Fan_2_00096000.jpg'), ([0.9820357360597011, 0.017964263940298937], '../whale_videos/Fan_2_images/Fan_2_00097000.jpg'), ([0.9644592097913618, 0.035540790208638165], '../whale_videos/Fan_2_images/Fan_2_00098000.jpg'), ([0.9529719149761507, 0.047028085023849246], '../whale_videos/Fan_2_images/Fan_2_00099000.jpg'), ([0.9592516415918322, 0.04074835840816782], '../whale_videos/Fan_2_images/Fan_2_00100000.jpg'), ([0.9642990493886137, 0.03570095061138639], '../whale_videos/Fan_2_images/Fan_2_00101000.jpg'), ([0.9642879076682092, 0.03571209233179082], '../whale_videos/Fan_2_images/Fan_2_00102000.jpg'), ([0.9647790317513811, 0.03522096824861892], '../whale_videos/Fan_2_images/Fan_2_00103000.jpg'), ([0.9649230979710088, 0.035076902028991136], '../whale_videos/Fan_2_images/Fan_2_00104000.jpg'), ([0.9640358352637366, 0.03596416473626345], '../whale_videos/Fan_2_images/Fan_2_00105000.jpg'), ([0.9644350441706386, 0.035564955829361374], '../whale_videos/Fan_2_images/Fan_2_00106000.jpg'), ([0.9639660848792679, 0.03603391512073202], '../whale_videos/Fan_2_images/Fan_2_00107000.jpg'), ([0.9643330446964292, 0.03566695530357082], '../whale_videos/Fan_2_images/Fan_2_00108000.jpg'), ([0.9645077119374166, 0.03549228806258347], '../whale_videos/Fan_2_images/Fan_2_00109000.jpg'), ([0.9644746972188187, 0.03552530278118125], '../whale_videos/Fan_2_images/Fan_2_00110000.jpg'), ([0.9656473673510171, 0.03435263264898294], '../whale_videos/Fan_2_images/Fan_2_00111000.jpg'), ([0.966311886223136, 0.033688113776863975], '../whale_videos/Fan_2_images/Fan_2_00112000.jpg'), ([0.9664916797840695, 0.03350832021593048], '../whale_videos/Fan_2_images/Fan_2_00113000.jpg'), ([0.9676413070987633, 0.03235869290123672], '../whale_videos/Fan_2_images/Fan_2_00114000.jpg'), ([0.9674642385710774, 0.03253576142892257], '../whale_videos/Fan_2_images/Fan_2_00115000.jpg'), ([0.9673035911210447, 0.03269640887895534], '../whale_videos/Fan_2_images/Fan_2_00116000.jpg'), ([0.9676551679429073, 0.03234483205709268], '../whale_videos/Fan_2_images/Fan_2_00117000.jpg')]\n",
      "\n",
      "for heldout video: Gom_1\n",
      "0.9459459459459459\n",
      "(490, 6) (490, 1)\n",
      "weight parameters:  [[-1.35769746 -1.20952832  0.22319338  0.48733475  0.80243897  0.73979467]]\n",
      "[([0.9417934036316566, 0.05820659636834331], '../whale_videos/Gom_1_images/Gom_1_00001000.jpg'), ([0.9468580816588587, 0.053141918341141396], '../whale_videos/Gom_1_images/Gom_1_00002000.jpg'), ([0.9510024987962313, 0.04899750120376872], '../whale_videos/Gom_1_images/Gom_1_00003000.jpg'), ([0.9682957545925621, 0.03170424540743791], '../whale_videos/Gom_1_images/Gom_1_00004000.jpg'), ([0.9407794341397465, 0.05922056586025347], '../whale_videos/Gom_1_images/Gom_1_00005000.jpg'), ([0.9285824789303765, 0.07141752106962346], '../whale_videos/Gom_1_images/Gom_1_00006000.jpg'), ([0.9290158209649213, 0.07098417903507871], '../whale_videos/Gom_1_images/Gom_1_00007000.jpg'), ([0.9273915235990661, 0.07260847640093392], '../whale_videos/Gom_1_images/Gom_1_00008000.jpg'), ([0.9389609107771889, 0.06103908922281112], '../whale_videos/Gom_1_images/Gom_1_00009000.jpg'), ([0.9360129370943259, 0.06398706290567412], '../whale_videos/Gom_1_images/Gom_1_00010000.jpg'), ([0.9447110056772999, 0.05528899432270004], '../whale_videos/Gom_1_images/Gom_1_00011000.jpg'), ([0.9307389598455883, 0.0692610401544117], '../whale_videos/Gom_1_images/Gom_1_00012000.jpg'), ([0.9321862413631278, 0.06781375863687225], '../whale_videos/Gom_1_images/Gom_1_00013000.jpg'), ([0.9328316257559743, 0.06716837424402569], '../whale_videos/Gom_1_images/Gom_1_00014000.jpg'), ([0.9442931867615981, 0.0557068132384019], '../whale_videos/Gom_1_images/Gom_1_00015000.jpg'), ([0.9598475047661702, 0.040152495233829764], '../whale_videos/Gom_1_images/Gom_1_00016000.jpg'), ([0.9473638759210411, 0.05263612407895894], '../whale_videos/Gom_1_images/Gom_1_00017000.jpg'), ([0.9354802827853894, 0.06451971721461061], '../whale_videos/Gom_1_images/Gom_1_00018000.jpg'), ([0.933498768507378, 0.06650123149262199], '../whale_videos/Gom_1_images/Gom_1_00019000.jpg'), ([0.9419439925902247, 0.058056007409775325], '../whale_videos/Gom_1_images/Gom_1_00020000.jpg'), ([0.9478970955579522, 0.052102904442047814], '../whale_videos/Gom_1_images/Gom_1_00021000.jpg'), ([0.9431436875881632, 0.0568563124118368], '../whale_videos/Gom_1_images/Gom_1_00022000.jpg'), ([0.940996660903386, 0.05900333909661401], '../whale_videos/Gom_1_images/Gom_1_00023000.jpg'), ([0.9431438906309734, 0.05685610936902668], '../whale_videos/Gom_1_images/Gom_1_00024000.jpg'), ([0.9456932333491223, 0.05430676665087772], '../whale_videos/Gom_1_images/Gom_1_00025000.jpg'), ([0.9284208110881818, 0.07157918891181826], '../whale_videos/Gom_1_images/Gom_1_00026000.jpg'), ([0.9246344976256621, 0.07536550237433788], '../whale_videos/Gom_1_images/Gom_1_00027000.jpg'), ([0.9266587979749027, 0.07334120202509732], '../whale_videos/Gom_1_images/Gom_1_00028000.jpg'), ([0.93384689281904, 0.06615310718096004], '../whale_videos/Gom_1_images/Gom_1_00029000.jpg'), ([0.9446885108143995, 0.055311489185600436], '../whale_videos/Gom_1_images/Gom_1_00030000.jpg'), ([0.9427660545937598, 0.05723394540624014], '../whale_videos/Gom_1_images/Gom_1_00031000.jpg'), ([0.9295008543493756, 0.07049914565062444], '../whale_videos/Gom_1_images/Gom_1_00032000.jpg'), ([0.9259972663848874, 0.07400273361511257], '../whale_videos/Gom_1_images/Gom_1_00033000.jpg'), ([0.9256408347467728, 0.07435916525322711], '../whale_videos/Gom_1_images/Gom_1_00034000.jpg'), ([0.9209252106305492, 0.07907478936945073], '../whale_videos/Gom_1_images/Gom_1_00035000.jpg'), ([0.9301828598517922, 0.06981714014820783], '../whale_videos/Gom_1_images/Gom_1_00036000.jpg'), ([0.934078778781264, 0.06592122121873596], '../whale_videos/Gom_1_images/Gom_1_00037000.jpg')]\n",
      "\n",
      "for heldout video: Grommet_1\n",
      "0.9607843137254902\n",
      "(476, 6) (476, 1)\n",
      "weight parameters:  [[-1.35803876 -1.2893725   0.2356518   0.53509211  0.88205954  0.89897318]]\n",
      "[([0.9347290138915333, 0.06527098610846671], '../whale_videos/Grommet_1_images/Grommet_1_00001000.jpg'), ([0.9430171955793418, 0.05698280442065814], '../whale_videos/Grommet_1_images/Grommet_1_00002000.jpg'), ([0.9450661716939044, 0.05493382830609565], '../whale_videos/Grommet_1_images/Grommet_1_00003000.jpg'), ([0.9469582316133117, 0.053041768386688275], '../whale_videos/Grommet_1_images/Grommet_1_00004000.jpg'), ([0.9495379251821506, 0.0504620748178494], '../whale_videos/Grommet_1_images/Grommet_1_00005000.jpg'), ([0.9477567056454486, 0.05224329435455145], '../whale_videos/Grommet_1_images/Grommet_1_00006000.jpg'), ([0.9463108383465918, 0.05368916165340822], '../whale_videos/Grommet_1_images/Grommet_1_00007000.jpg'), ([0.9366976901804275, 0.06330230981957256], '../whale_videos/Grommet_1_images/Grommet_1_00008000.jpg'), ([0.9591778563924838, 0.04082214360751627], '../whale_videos/Grommet_1_images/Grommet_1_00009000.jpg'), ([0.975484656348896, 0.024515343651103937], '../whale_videos/Grommet_1_images/Grommet_1_00010000.jpg'), ([0.9790421528685472, 0.02095784713145281], '../whale_videos/Grommet_1_images/Grommet_1_00011000.jpg'), ([0.9795295258808764, 0.020470474119123627], '../whale_videos/Grommet_1_images/Grommet_1_00012000.jpg'), ([0.9776050256043615, 0.02239497439563855], '../whale_videos/Grommet_1_images/Grommet_1_00013000.jpg'), ([0.9696139631082205, 0.0303860368917795], '../whale_videos/Grommet_1_images/Grommet_1_00014000.jpg'), ([0.9675046068575954, 0.03249539314240452], '../whale_videos/Grommet_1_images/Grommet_1_00015000.jpg'), ([0.9819327740433018, 0.018067225956698227], '../whale_videos/Grommet_1_images/Grommet_1_00016000.jpg'), ([0.9900243282016242, 0.009975671798375786], '../whale_videos/Grommet_1_images/Grommet_1_00017000.jpg'), ([0.9890223167622593, 0.010977683237740682], '../whale_videos/Grommet_1_images/Grommet_1_00018000.jpg'), ([0.9879180428655797, 0.012081957134420281], '../whale_videos/Grommet_1_images/Grommet_1_00019000.jpg'), ([0.9846362211350579, 0.015363778864942121], '../whale_videos/Grommet_1_images/Grommet_1_00020000.jpg'), ([0.9840037589884613, 0.015996241011538688], '../whale_videos/Grommet_1_images/Grommet_1_00021000.jpg'), ([0.9837971798270276, 0.016202820172972317], '../whale_videos/Grommet_1_images/Grommet_1_00022000.jpg'), ([0.9865167577273994, 0.013483242272600511], '../whale_videos/Grommet_1_images/Grommet_1_00023000.jpg'), ([0.9843951798351, 0.015604820164899964], '../whale_videos/Grommet_1_images/Grommet_1_00024000.jpg'), ([0.9751724850048407, 0.02482751499515939], '../whale_videos/Grommet_1_images/Grommet_1_00025000.jpg'), ([0.9847196412105812, 0.0152803587894188], '../whale_videos/Grommet_1_images/Grommet_1_00026000.jpg'), ([0.9844337775267953, 0.015566222473204714], '../whale_videos/Grommet_1_images/Grommet_1_00027000.jpg'), ([0.9841018371682059, 0.015898162831794127], '../whale_videos/Grommet_1_images/Grommet_1_00028000.jpg'), ([0.9850632861737552, 0.014936713826244875], '../whale_videos/Grommet_1_images/Grommet_1_00029000.jpg'), ([0.9870287577847786, 0.012971242215221408], '../whale_videos/Grommet_1_images/Grommet_1_00030000.jpg'), ([0.9892249213782416, 0.01077507862175845], '../whale_videos/Grommet_1_images/Grommet_1_00031000.jpg'), ([0.98847257001585, 0.011527429984150026], '../whale_videos/Grommet_1_images/Grommet_1_00032000.jpg'), ([0.9847301472349558, 0.01526985276504418], '../whale_videos/Grommet_1_images/Grommet_1_00033000.jpg'), ([0.9772982772621586, 0.022701722737841462], '../whale_videos/Grommet_1_images/Grommet_1_00034000.jpg'), ([0.9767754714991219, 0.02322452850087804], '../whale_videos/Grommet_1_images/Grommet_1_00035000.jpg'), ([0.7918737655438658, 0.2081262344561342], '../whale_videos/Grommet_1_images/Grommet_1_00036000.jpg'), ([0.8044634706281077, 0.1955365293718923], '../whale_videos/Grommet_1_images/Grommet_1_00037000.jpg'), ([0.8723839785024055, 0.1276160214975946], '../whale_videos/Grommet_1_images/Grommet_1_00038000.jpg'), ([0.9814011571835949, 0.018598842816405163], '../whale_videos/Grommet_1_images/Grommet_1_00039000.jpg'), ([0.98104968094807, 0.018950319051929985], '../whale_videos/Grommet_1_images/Grommet_1_00040000.jpg'), ([0.939860248355509, 0.06013975164449099], '../whale_videos/Grommet_1_images/Grommet_1_00041000.jpg'), ([0.8891842897317767, 0.11081571026822334], '../whale_videos/Grommet_1_images/Grommet_1_00042000.jpg'), ([0.894058730126838, 0.10594126987316196], '../whale_videos/Grommet_1_images/Grommet_1_00043000.jpg'), ([0.9676463879079699, 0.032353612092030117], '../whale_videos/Grommet_1_images/Grommet_1_00044000.jpg'), ([0.9828821781777265, 0.017117821822273522], '../whale_videos/Grommet_1_images/Grommet_1_00045000.jpg'), ([0.9874889678628997, 0.012511032137100203], '../whale_videos/Grommet_1_images/Grommet_1_00046000.jpg'), ([0.9870008514562462, 0.012999148543753843], '../whale_videos/Grommet_1_images/Grommet_1_00047000.jpg'), ([0.9877984863860664, 0.012201513613933677], '../whale_videos/Grommet_1_images/Grommet_1_00048000.jpg'), ([0.9865504801821527, 0.013449519817847252], '../whale_videos/Grommet_1_images/Grommet_1_00049000.jpg'), ([0.9891110242008474, 0.01088897579915257], '../whale_videos/Grommet_1_images/Grommet_1_00050000.jpg'), ([0.9894893282679461, 0.010510671732053905], '../whale_videos/Grommet_1_images/Grommet_1_00051000.jpg')]\n",
      "\n"
     ]
    }
   ],
   "source": [
    "#cross validate, holding out exacrly one video for testing\n",
    "for i, name in enumerate(whale_names):\n",
    "    x_icl = x_data[0:i] + x_data[i+1:]\n",
    "    y_icl = y_data[0:i] + y_data[i+1:]\n",
    "    imgs_icl = imgs[0:i] + imgs[i+1:]\n",
    "    x_tr = np.concatenate(x_icl) #concatonate list of dataframes\n",
    "    y_tr = np.concatenate(y_icl)\n",
    "    imgs_tr = sum(imgs_icl, []) #concatonate list of lists\n",
    "    x_test = x_data[i]\n",
    "    y_test = y_data[i]\n",
    "    y_imgs = imgs[i]\n",
    "    clf = sklearn.linear_model.LogisticRegression(solver='liblinear').fit(x_tr, y_tr.T[0])\n",
    "    print(\"for heldout video: \" + name)\n",
    "    print(clf.score(x_test, y_test))\n",
    "    print(x_tr.shape, y_tr.shape)\n",
    "    print(\"weight parameters: \", clf.coef_)\n",
    "    probs = clf.predict_proba(x_test)\n",
    "    probs_list = probs.tolist()\n",
    "    print(list(zip(probs_list, y_imgs)))\n",
    "    print()\n",
    "    \n",
    "    #break"
   ]
  },
  {
   "cell_type": "code",
   "execution_count": 110,
   "metadata": {},
   "outputs": [
    {
     "data": {
      "text/plain": [
       "1"
      ]
     },
     "execution_count": 110,
     "metadata": {},
     "output_type": "execute_result"
    }
   ],
   "source": [
    "min([1, 2, 3])"
   ]
  },
  {
   "cell_type": "code",
   "execution_count": null,
   "metadata": {},
   "outputs": [],
   "source": []
  },
  {
   "cell_type": "code",
   "execution_count": null,
   "metadata": {},
   "outputs": [],
   "source": []
  }
 ],
 "metadata": {
  "kernelspec": {
   "display_name": "Python 3",
   "language": "python",
   "name": "python3"
  },
  "language_info": {
   "codemirror_mode": {
    "name": "ipython",
    "version": 3
   },
   "file_extension": ".py",
   "mimetype": "text/x-python",
   "name": "python",
   "nbconvert_exporter": "python",
   "pygments_lexer": "ipython3",
   "version": "3.7.4"
  }
 },
 "nbformat": 4,
 "nbformat_minor": 4
}

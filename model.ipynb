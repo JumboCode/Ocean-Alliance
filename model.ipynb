{
 "cells": [
  {
   "cell_type": "code",
   "execution_count": 159,
   "metadata": {},
   "outputs": [],
   "source": [
    "import os\n",
    "import numpy as np\n",
    "import pandas as pd\n",
    "\n",
    "import sklearn.linear_model\n",
    "import sklearn.tree\n",
    "import sklearn.metrics\n",
    "import sklearn.neighbors\n",
    "\n",
    "from matplotlib import pyplot as plt\n",
    "import pprint \n",
    "import seaborn as sns\n"
   ]
  },
  {
   "cell_type": "code",
   "execution_count": 160,
   "metadata": {},
   "outputs": [],
   "source": [
    "# determine whales to include based on what dataCSVs exist that dont exist\n",
    "\n",
    "datapath = '../CSVs/'\n",
    "sourcepath = '../frame_CSVs/'\n",
    "whale_names = list(os.walk(datapath))[0][2]\n",
    "CSV_names = [datapath + n for n in whale_names]\n",
    "whale_names = [n[:-4] for n in whale_names]"
   ]
  },
  {
   "cell_type": "code",
   "execution_count": 161,
   "metadata": {},
   "outputs": [
    {
     "name": "stdout",
     "output_type": "stream",
     "text": [
      "['Daffodil_1', 'Daffodil_2', 'Fan_1', 'Fan_2', 'Grommet_1']\n",
      "['../CSVs/Daffodil_1.csv', '../CSVs/Fan_1.csv', '../CSVs/Fan_2.csv', '../CSVs/Grommet_1.csv']\n"
     ]
    }
   ],
   "source": [
    "print(names)\n",
    "print(CSV_names)"
   ]
  },
  {
   "cell_type": "code",
   "execution_count": 162,
   "metadata": {},
   "outputs": [
    {
     "name": "stdout",
     "output_type": "stream",
     "text": [
      "../frame_CSVs/Daffodil_1_images_fv.csv\n",
      "../frame_CSVs/Fan_2_images_fv.csv\n",
      "../frame_CSVs/Grommet_1_images_fv.csv\n"
     ]
    }
   ],
   "source": [
    "x_data = []\n",
    "y_data = []\n",
    "for whale_name, CSV_name in zip(whale_names, CSV_names):\n",
    "    xname = sourcepath + whale_name + '_images_fv.csv'\n",
    "    try:\n",
    "        xd = pd.read_csv(xname, header = None)\n",
    "        yd = pd.read_csv(CSV_name, header = None)\n",
    "    except:\n",
    "        continue\n",
    "    print(xname)\n",
    "    x_data.append(xd)\n",
    "    y_data.append(yd)"
   ]
  },
  {
   "cell_type": "code",
   "execution_count": 163,
   "metadata": {},
   "outputs": [
    {
     "name": "stdout",
     "output_type": "stream",
     "text": [
      "(168, 6)\n",
      "(168, 1)\n",
      "(239, 6)\n",
      "(238, 1)\n",
      "(303, 6)\n",
      "(304, 1)\n"
     ]
    }
   ],
   "source": [
    "for i in range(3):\n",
    "    x_icl = x_data[0:i] + x_data[i+1:]\n",
    "    y_icl = y_data[0:i] + y_data[i+1:]\n",
    "    x_tr = np.concatenate(x_icl)\n",
    "    y_tr = np.concatenate(y_icl)\n",
    "    print(x_tr[:,1:].shape)\n",
    "    print(y_tr[:,1:].shape)\n",
    "    #clf = sklearn.linear_model.LogisticRegression(solver='liblinear').fit(x_tr[:,1:], y_tr[:,1:])\n",
    "    \n",
    "    \n",
    "    \n",
    "    '''\n",
    "    pred_tr = clf.predict_proba(x_tr_M2)\n",
    "    pred_va = clf.predict_proba(x_va_N2)\n",
    "    tr_loss_list.append(sklearn.metrics.log_loss(y_tr_M, pred_tr))\n",
    "    va_loss_list.append(sklearn.metrics.log_loss(y_va_N, pred_va))\n",
    "    '''\n",
    "    \n",
    "\n"
   ]
  },
  {
   "cell_type": "code",
   "execution_count": null,
   "metadata": {},
   "outputs": [],
   "source": []
  },
  {
   "cell_type": "code",
   "execution_count": 166,
   "metadata": {},
   "outputs": [
    {
     "name": "stdout",
     "output_type": "stream",
     "text": [
      "[1, 2]\n"
     ]
    }
   ],
   "source": [
    "lst = [1, 2, 3]\n",
    "i = 2\n",
    "print(lst[0:i] + lst[i+1:])"
   ]
  },
  {
   "cell_type": "code",
   "execution_count": null,
   "metadata": {},
   "outputs": [],
   "source": []
  }
 ],
 "metadata": {
  "kernelspec": {
   "display_name": "Python 3",
   "language": "python",
   "name": "python3"
  },
  "language_info": {
   "codemirror_mode": {
    "name": "ipython",
    "version": 3
   },
   "file_extension": ".py",
   "mimetype": "text/x-python",
   "name": "python",
   "nbconvert_exporter": "python",
   "pygments_lexer": "ipython3",
   "version": "3.7.4"
  }
 },
 "nbformat": 4,
 "nbformat_minor": 4
}
